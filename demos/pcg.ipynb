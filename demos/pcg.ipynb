{
 "cells": [
  {
   "cell_type": "code",
   "execution_count": null,
   "id": "5350e50b-62a6-4665-9982-088d7a47f28b",
   "metadata": {},
   "outputs": [],
   "source": [
    "import torch\n",
    "import torch.linalg as tla\n",
    "import numpy as np\n",
    "import matplotlib.pyplot as plt\n",
    "import numml.sparse as sp"
   ]
  },
  {
   "cell_type": "code",
   "execution_count": null,
   "id": "47429021-b9bc-4b6d-87e6-bb52a82e01e4",
   "metadata": {},
   "outputs": [],
   "source": [
    "# Create our favorite poisson operator\n",
    "\n",
    "N = 32\n",
    "A = sp.eye(N)*2. - sp.eye(N, k=1) - sp.eye(N, k=-1)\n",
    "b = torch.zeros(N)"
   ]
  },
  {
   "cell_type": "code",
   "execution_count": null,
   "id": "a7b5294e-e53c-47b7-b27e-0a551c117e20",
   "metadata": {},
   "outputs": [],
   "source": [
    "# CG and PCG implementations taken from Y. Saad, Iterative Methods for Sparse Linear Systems\n",
    "\n",
    "def cg(A, b, iterations=15):\n",
    "    x = torch.zeros(A.shape[1])\n",
    "    r = b\n",
    "    p = r\n",
    "    \n",
    "    res_hist = torch.zeros(iterations + 1)\n",
    "    res_hist[0] = tla.norm(r)\n",
    "    \n",
    "    for i in range(iterations):\n",
    "        Ap = A @ p\n",
    "        rr = r@r\n",
    "        alpha = rr/(Ap@p)\n",
    "        x = x + alpha * p\n",
    "        r = r - alpha * Ap\n",
    "        beta = (r@r) / rr\n",
    "        p = r + beta * p\n",
    "        \n",
    "        res_hist[i+1] = tla.norm(r)\n",
    "    \n",
    "    return x, res_hist\n",
    "\n",
    "def pcg(M, A, b, iterations=15):\n",
    "    x = torch.zeros(A.shape[1])\n",
    "    r = b\n",
    "    z = M @ r\n",
    "    p = r\n",
    "    \n",
    "    res_hist = torch.zeros(iterations + 1)\n",
    "    res_hist[0] = tla.norm(r)\n",
    "    \n",
    "    for i in range(iterations):\n",
    "        Ap = A @ p\n",
    "        rz = r@z\n",
    "        alpha = rz/(Ap@p)\n",
    "        x = x + alpha * p\n",
    "        r = r - alpha * Ap\n",
    "        z = M @ r\n",
    "        beta = (r@z)/(rz)\n",
    "        p = z + beta * p\n",
    "        \n",
    "        res_hist[i+1] = tla.norm(r)\n",
    "    \n",
    "    return x, res_hist"
   ]
  },
  {
   "cell_type": "code",
   "execution_count": null,
   "id": "b8c1b3a6-bd21-4278-8c1f-7820fe4036d4",
   "metadata": {},
   "outputs": [],
   "source": [
    "# linear forcing term, gives sinusoidal looking u\n",
    "\n",
    "b = torch.linspace(-1, 1, N+2)[1:-1]\n",
    "\n",
    "plt.plot(b, label='rhs')\n",
    "plt.plot(sp.spsolve(A, b), label='true solution')\n",
    "plt.legend()"
   ]
  },
  {
   "cell_type": "code",
   "execution_count": null,
   "id": "aaf79c2b-5d94-414e-8c0c-752b1e56eedf",
   "metadata": {},
   "outputs": [],
   "source": [
    "# Find some preconditioner w/ same sparsity as A\n",
    "# optimize residual of last iterate wrt entries of M\n",
    "\n",
    "M = A.copy()\n",
    "M.requires_grad = True\n",
    "\n",
    "optimizer = torch.optim.Adam([M.data], lr=0.01)\n",
    "epochs = 750\n",
    "lh = torch.zeros(epochs)\n",
    "\n",
    "for i in range(epochs):\n",
    "    optimizer.zero_grad()\n",
    "    \n",
    "    x_, res_ = pcg(M, A, b)\n",
    "    loss = res_[-1]\n",
    "    loss.backward()\n",
    "    \n",
    "    optimizer.step()\n",
    "    lh[i] = loss.item()\n",
    "    \n",
    "    if i % 10 == 0 or i == epochs - 1:\n",
    "        print(i, loss.item())"
   ]
  },
  {
   "cell_type": "code",
   "execution_count": null,
   "id": "b2848530-daa7-4150-8634-551219182828",
   "metadata": {},
   "outputs": [],
   "source": [
    "plt.semilogy(lh)"
   ]
  },
  {
   "cell_type": "code",
   "execution_count": null,
   "id": "e8bb9104-1fcc-4517-8d46-206863023446",
   "metadata": {},
   "outputs": [],
   "source": [
    "x, res = cg(A, b)\n",
    "x_m, res_m = pcg(M, A, b)"
   ]
  },
  {
   "cell_type": "code",
   "execution_count": null,
   "id": "efc86ebe-fadf-40fa-93e8-f567afc73799",
   "metadata": {},
   "outputs": [],
   "source": [
    "plt.semilogy(res, label='Conjugate Gradient')\n",
    "plt.semilogy(res_m.detach(), label='Optimized PCG')\n",
    "plt.legend()\n",
    "plt.grid()\n",
    "plt.xlabel('Iteration')\n",
    "plt.ylabel('Residual')"
   ]
  },
  {
   "cell_type": "code",
   "execution_count": null,
   "id": "a6aef161-d499-4321-bb67-2053423fb4ab",
   "metadata": {},
   "outputs": [],
   "source": []
  }
 ],
 "metadata": {
  "kernelspec": {
   "display_name": "Python 3 (ipykernel)",
   "language": "python",
   "name": "python3"
  },
  "language_info": {
   "codemirror_mode": {
    "name": "ipython",
    "version": 3
   },
   "file_extension": ".py",
   "mimetype": "text/x-python",
   "name": "python",
   "nbconvert_exporter": "python",
   "pygments_lexer": "ipython3",
   "version": "3.10.7"
  }
 },
 "nbformat": 4,
 "nbformat_minor": 5
}
