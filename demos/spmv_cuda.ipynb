{
 "cells": [
  {
   "cell_type": "code",
   "execution_count": null,
   "id": "818b18e0-8cbf-468d-8a62-5903e580859e",
   "metadata": {},
   "outputs": [],
   "source": [
    "# Testing CUDA matvec implementation"
   ]
  },
  {
   "cell_type": "code",
   "execution_count": null,
   "id": "740bfd46-2ad3-4baa-a120-918cae3c24f9",
   "metadata": {},
   "outputs": [],
   "source": [
    "import torch\n",
    "import torch.linalg as tla\n",
    "import numml.sparse as sp\n",
    "import time"
   ]
  },
  {
   "cell_type": "code",
   "execution_count": null,
   "id": "40017e6f-8f7e-4a33-825a-51df4aca525c",
   "metadata": {},
   "outputs": [],
   "source": [
    "# Large(r) poisson problem\n",
    "\n",
    "N = 1024\n",
    "A = sp.eye(N)*2 - sp.eye(N, k=-1) - sp.eye(N, k=1)\n",
    "A.requires_grad = True\n",
    "x = torch.rand(N)\n",
    "x.requires_grad = True\n",
    "print(repr(A))\n",
    "print(repr(x))"
   ]
  },
  {
   "cell_type": "code",
   "execution_count": null,
   "id": "9422483f-654c-4c12-b565-e9f96a6a2e00",
   "metadata": {},
   "outputs": [],
   "source": [
    "# Move everything over to the GPU\n",
    "# The CSR tensor has similar syntax for moving between devices\n",
    "\n",
    "cuda = torch.device('cuda:0')\n",
    "A_c = A.to(cuda).detach()\n",
    "A_c.requires_grad = True\n",
    "x_c = x.to(cuda).detach()\n",
    "x_c.requires_grad = True\n",
    "\n",
    "print(repr(A_c))\n",
    "print(repr(x_c))"
   ]
  },
  {
   "cell_type": "code",
   "execution_count": null,
   "id": "17ef74d6-38d9-44f8-86a2-8baf589cf8e5",
   "metadata": {},
   "outputs": [],
   "source": [
    "# Check that our CUDA matvec gives equivalent results to the CPU matvec\n",
    "torch.allclose((A_c @ x_c).cpu(), A@x)"
   ]
  },
  {
   "cell_type": "code",
   "execution_count": null,
   "id": "d837399d-8097-4604-a1d2-e10d1a3b21ec",
   "metadata": {},
   "outputs": [],
   "source": [
    "# Also check that the backward pass is identical\n",
    "(A_c@x_c).sum().backward()\n",
    "(A@x).sum().backward()\n",
    "\n",
    "print(torch.allclose(A.grad.data, A_c.grad.data.cpu()))\n",
    "print(torch.allclose(x.grad, x_c.grad.cpu()))"
   ]
  },
  {
   "cell_type": "code",
   "execution_count": null,
   "id": "a487ca97-0af4-437d-b293-5054fd7dd2c1",
   "metadata": {},
   "outputs": [],
   "source": [
    "# Reset gradients\n",
    "A.data.grad.zero_()\n",
    "A_c.data.grad.zero_()\n",
    "x.grad.zero_()\n",
    "x_c.grad.zero_()"
   ]
  },
  {
   "cell_type": "code",
   "execution_count": null,
   "id": "72b5f8ab-bb77-458d-834b-edae11b6f8ef",
   "metadata": {},
   "outputs": [],
   "source": [
    "# Timing test\n",
    "\n",
    "N_it = 1_000\n",
    "print(f'Performing {N_it} sparse matvecs (forward pass)')\n",
    "\n",
    "t_start = time.time()\n",
    "for i in range(N_it):\n",
    "    b = A@x\n",
    "t_cpu = time.time() - t_start\n",
    "print('CPU time:', t_cpu)\n",
    "\n",
    "t_start = time.time()\n",
    "for i in range(N_it):\n",
    "    b_c = A_c@x_c\n",
    "torch.cuda.synchronize()\n",
    "t_cuda = time.time() - t_start\n",
    "print('GPU time:', t_cuda)\n",
    "print()\n",
    "\n",
    "N_it = 100\n",
    "print(f'Performing {N_it} sparse matvecs (backward pass)')\n",
    "\n",
    "t_start = time.time()\n",
    "for i in range(N_it):\n",
    "    b = A@x\n",
    "    b.sum().backward()\n",
    "t_cpu = time.time() - t_start\n",
    "print('CPU time:', t_cpu)\n",
    "\n",
    "t_start = time.time()\n",
    "for i in range(N_it):\n",
    "    b_c = A_c@x_c\n",
    "    b_c.sum().backward()\n",
    "torch.cuda.synchronize()\n",
    "t_cuda = time.time() - t_start\n",
    "print('GPU time:', t_cuda)"
   ]
  },
  {
   "cell_type": "code",
   "execution_count": null,
   "id": "13cd41b2-f5a2-416a-9613-f47b74829886",
   "metadata": {},
   "outputs": [],
   "source": [
    "grad_err = tla.norm(A.grad.data - A_c.grad.data.cpu()) / tla.norm(A.grad.data)\n",
    "print('Relative error in CPU and GPU gradients (A)', grad_err.item())\n",
    "\n",
    "grad_err = tla.norm(x.grad - x_c.grad.cpu()) / tla.norm(x.grad)\n",
    "print('Relative error in CPU and GPU gradients (x)', grad_err.item())"
   ]
  },
  {
   "cell_type": "code",
   "execution_count": null,
   "id": "c745562c-b8e1-4f65-9612-1122d7b3dc96",
   "metadata": {},
   "outputs": [],
   "source": []
  }
 ],
 "metadata": {
  "kernelspec": {
   "display_name": "Python 3 (ipykernel)",
   "language": "python",
   "name": "python3"
  },
  "language_info": {
   "codemirror_mode": {
    "name": "ipython",
    "version": 3
   },
   "file_extension": ".py",
   "mimetype": "text/x-python",
   "name": "python",
   "nbconvert_exporter": "python",
   "pygments_lexer": "ipython3",
   "version": "3.10.8"
  }
 },
 "nbformat": 4,
 "nbformat_minor": 5
}
