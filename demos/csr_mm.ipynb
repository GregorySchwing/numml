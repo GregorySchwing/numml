{
 "cells": [
  {
   "cell_type": "code",
   "execution_count": null,
   "id": "d73dc051-c996-4237-906e-cc486ab58078",
   "metadata": {},
   "outputs": [],
   "source": [
    "# This is a demo notebook for implementing csr sp*sp products in Python\n",
    "# there are no cool gradient things happening in here"
   ]
  },
  {
   "cell_type": "code",
   "execution_count": null,
   "id": "3b3ca425-7260-49a1-89eb-7ba28b59ec16",
   "metadata": {},
   "outputs": [],
   "source": [
    "import numpy as np\n",
    "import scipy.sparse as sp"
   ]
  },
  {
   "cell_type": "code",
   "execution_count": null,
   "id": "ad11d3d8-eead-41dc-bfc2-b905a73b25d8",
   "metadata": {},
   "outputs": [],
   "source": [
    "A = sp.eye(5, k=-1).tocsr()\n",
    "B = sp.eye(5, k=-1).tocsr()"
   ]
  },
  {
   "cell_type": "code",
   "execution_count": null,
   "id": "01ee4cfe-6884-4d32-a366-4026f49176fe",
   "metadata": {},
   "outputs": [],
   "source": [
    "(A.T@B).todense()"
   ]
  },
  {
   "cell_type": "code",
   "execution_count": null,
   "id": "bf77252a-95e1-430e-94ad-62d2be58870b",
   "metadata": {},
   "outputs": [],
   "source": [
    "(A@B.T).todense()"
   ]
  },
  {
   "cell_type": "code",
   "execution_count": null,
   "id": "31ac70b4-204f-44e0-a4ce-3521e8d0b148",
   "metadata": {},
   "outputs": [],
   "source": [
    "(A@B).todense()"
   ]
  },
  {
   "cell_type": "code",
   "execution_count": null,
   "id": "c06fc7b0-5a04-477b-9c6e-b063609ee48b",
   "metadata": {},
   "outputs": [],
   "source": [
    "def spmmAtB(A_shape, A_data, A_indptr, A_indices,\n",
    "            B_shape, B_data, B_indptr, B_indices):\n",
    "    C = np.zeros((A_shape[1], B_shape[1]))\n",
    "    \n",
    "    for A_row in range(len(A_indptr)-1):\n",
    "        for A_row_i in range(A_indptr[A_row], A_indptr[A_row+1]):\n",
    "            A_col = A_indices[A_row_i]\n",
    "            for B_row_i in range(B_indptr[A_row], B_indptr[A_row+1]):\n",
    "                B_col = B_indices[B_row_i]\n",
    "                    \n",
    "                C[A_col, B_col] += A_data[A_row_i] * B_data[B_row_i]\n",
    "    \n",
    "    return C"
   ]
  },
  {
   "cell_type": "code",
   "execution_count": null,
   "id": "56c25f1f-75ad-46a0-a25b-59d6110b7124",
   "metadata": {},
   "outputs": [],
   "source": [
    "def spmmABt(A_shape, A_data, A_indptr, A_indices,\n",
    "            B_shape, B_data, B_indptr, B_indices):\n",
    "    C = np.zeros((A_shape[0], B_shape[0]))\n",
    "    \n",
    "    for A_row in range(len(A_indptr)-1):\n",
    "        for B_row in range(len(B_indptr)-1):\n",
    "            A_row_i = A_indptr[A_row]\n",
    "            B_row_i = B_indptr[B_row]\n",
    "            \n",
    "            A_row_end = A_indptr[A_row + 1]\n",
    "            B_row_end = B_indptr[B_row + 1]\n",
    "            \n",
    "            cij = 0.\n",
    "            \n",
    "            while A_row_i < A_row_end and B_row_i < B_row_end:\n",
    "                A_col = A_indices[A_row_i]\n",
    "                B_col = B_indices[B_row_i]\n",
    "                \n",
    "                if A_col < B_col:\n",
    "                    A_row_i += 1\n",
    "                elif A_col > B_col:\n",
    "                    B_row_i += 1\n",
    "                else:\n",
    "                    cij += A_data[A_row_i] * B_data[B_row_i]\n",
    "                    A_row_i += 1\n",
    "                    B_row_i += 1\n",
    "\n",
    "            C[A_row][B_row] = cij\n",
    "    \n",
    "    return C"
   ]
  },
  {
   "cell_type": "code",
   "execution_count": null,
   "id": "c233f052-6c3b-4d13-8068-1a589e053c1a",
   "metadata": {},
   "outputs": [],
   "source": [
    "def spmmAB(A_shape, A_data, A_indptr, A_indices,\n",
    "            B_shape, B_data, B_indptr, B_indices):\n",
    "    C = np.zeros((A_shape[1], B_shape[1]))\n",
    "    \n",
    "    for A_row in range(len(A_indptr)-1):\n",
    "        for A_row_i in range(A_indptr[A_row], A_indptr[A_row+1]):\n",
    "            A_col = A_indices[A_row_i]\n",
    "            for B_row_i in range(B_indptr[A_col], B_indptr[A_col+1]):\n",
    "                B_col = B_indices[B_row_i]\n",
    "                    \n",
    "                C[A_row, B_col] += A_data[A_row_i] * B_data[B_row_i]\n",
    "    \n",
    "    return C"
   ]
  },
  {
   "cell_type": "code",
   "execution_count": null,
   "id": "d0b1ab3c-769c-47d4-8cf4-9bab53038ae6",
   "metadata": {},
   "outputs": [],
   "source": [
    "spmmAtB(A.shape, A.data, A.indptr, A.indices,\n",
    "        B.shape, B.data, B.indptr, B.indices)"
   ]
  },
  {
   "cell_type": "code",
   "execution_count": null,
   "id": "184d72a1-f43c-407f-8ae6-63f52f2a9616",
   "metadata": {},
   "outputs": [],
   "source": [
    "spmmABt(A.shape, A.data, A.indptr, A.indices,\n",
    "        B.shape, B.data, B.indptr, B.indices)"
   ]
  },
  {
   "cell_type": "code",
   "execution_count": null,
   "id": "e546257d-84f2-4c83-ac9a-a2b319e99c5d",
   "metadata": {},
   "outputs": [],
   "source": [
    "spmmAB(A.shape, A.data, A.indptr, A.indices,\n",
    "       B.shape, B.data, B.indptr, B.indices)"
   ]
  },
  {
   "cell_type": "code",
   "execution_count": null,
   "id": "675490fa-966b-49fc-a7fc-4af1715691fd",
   "metadata": {},
   "outputs": [],
   "source": []
  }
 ],
 "metadata": {
  "kernelspec": {
   "display_name": "Python 3 (ipykernel)",
   "language": "python",
   "name": "python3"
  },
  "language_info": {
   "codemirror_mode": {
    "name": "ipython",
    "version": 3
   },
   "file_extension": ".py",
   "mimetype": "text/x-python",
   "name": "python",
   "nbconvert_exporter": "python",
   "pygments_lexer": "ipython3",
   "version": "3.10.7"
  }
 },
 "nbformat": 4,
 "nbformat_minor": 5
}
