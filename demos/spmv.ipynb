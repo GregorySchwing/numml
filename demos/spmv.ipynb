{
 "cells": [
  {
   "cell_type": "code",
   "execution_count": 1,
   "id": "a063d009-b4b1-4689-a644-b151e3998751",
   "metadata": {},
   "outputs": [],
   "source": [
    "import torch\n",
    "import torch.autograd\n",
    "import numml.sparse as sp"
   ]
  },
  {
   "cell_type": "code",
   "execution_count": 2,
   "id": "5d865631-6fe4-45ac-b60b-101ffd3dab6b",
   "metadata": {},
   "outputs": [
    {
     "data": {
      "text/plain": [
       "tensor(indices=tensor([[0, 1, 1],\n",
       "                       [2, 0, 2]]),\n",
       "       values=tensor([3., 4., 5.]),\n",
       "       size=(2, 3), nnz=3, layout=torch.sparse_coo, grad_fn=<CoalesceBackward0>)"
      ]
     },
     "execution_count": 2,
     "metadata": {},
     "output_type": "execute_result"
    }
   ],
   "source": [
    "# define our sparse tensor using torch's built-in COO format\n",
    "i = torch.tensor([[0, 1, 1],\n",
    "                  [2, 0, 2]])\n",
    "v = torch.tensor([3, 4, 5], dtype=torch.float32, requires_grad=True)\n",
    "\n",
    "T_coo = torch.sparse_coo_tensor(i, v).coalesce()\n",
    "T_coo"
   ]
  },
  {
   "cell_type": "code",
   "execution_count": 3,
   "id": "69644c50-cb25-4770-8d82-469dfb4db3e4",
   "metadata": {},
   "outputs": [],
   "source": [
    "# Convert to our CSR class\n",
    "T_csr = sp.SparseCSRTensor(A)"
   ]
  },
  {
   "cell_type": "code",
   "execution_count": 4,
   "id": "727388c2-1161-4144-beaf-c4be15582e16",
   "metadata": {},
   "outputs": [
    {
     "name": "stdout",
     "output_type": "stream",
     "text": [
      "tensor([[0., 0., 3.],\n",
      "        [4., 0., 5.]], requires_grad=True)\n"
     ]
    }
   ],
   "source": [
    "# Dense version of our tensor (for testing)\n",
    "T_dense = torch.clone(T_csr.to_dense()).detach()\n",
    "T_dense.requires_grad = True\n",
    "\n",
    "print(T_dense)"
   ]
  },
  {
   "cell_type": "code",
   "execution_count": 5,
   "id": "19af4bb4-8707-4773-9c91-dab7b8b7510e",
   "metadata": {},
   "outputs": [
    {
     "name": "stdout",
     "output_type": "stream",
     "text": [
      "tensor([ 6., 10.], grad_fn=<spgemvBackward>)\n",
      "tensor([ 6., 10.], grad_fn=<MvBackward0>)\n"
     ]
    }
   ],
   "source": [
    "# Sparse mat-vec\n",
    "\n",
    "print(T_csr @ torch.arange(3).float())\n",
    "print(T_dense @ torch.arange(3).float())"
   ]
  },
  {
   "cell_type": "code",
   "execution_count": 6,
   "id": "11b7c256-9e8b-42d7-b943-2a7ea7b9bddd",
   "metadata": {},
   "outputs": [
    {
     "name": "stdout",
     "output_type": "stream",
     "text": [
      "(tensor([2., 0., 2.]),)\n",
      "(tensor([[0., 1., 2.],\n",
      "        [0., 1., 2.]]),)\n"
     ]
    }
   ],
   "source": [
    "# Mat-vec grad wrt matrix\n",
    "## The sparse representation will keep sparse gradients, meaning gradient information will\n",
    "## be accumulated in *nonzero entries only*\n",
    "\n",
    "print(torch.autograd.grad((T_csr @ torch.arange(3).float()).sum(), T_csr.data))\n",
    "print(torch.autograd.grad((T_dense @ torch.arange(3).float()).sum(), T_dense))"
   ]
  },
  {
   "cell_type": "code",
   "execution_count": null,
   "id": "663c2b74-4ce4-4f02-b1ca-3ceb8301c815",
   "metadata": {},
   "outputs": [],
   "source": [
    "# Mat-vec grad wrt vec\n",
    "\n",
    "x = torch.arange(3).float()+2.\n",
    "x.requires_grad = True\n",
    "\n",
    "print(torch.autograd.grad((T_csr @ x).sum(), x))\n",
    "print(torch.autograd.grad((T_dense @ x).sum(), x))"
   ]
  }
 ],
 "metadata": {
  "kernelspec": {
   "display_name": "Python 3 (ipykernel)",
   "language": "python",
   "name": "python3"
  },
  "language_info": {
   "codemirror_mode": {
    "name": "ipython",
    "version": 3
   },
   "file_extension": ".py",
   "mimetype": "text/x-python",
   "name": "python",
   "nbconvert_exporter": "python",
   "pygments_lexer": "ipython3",
   "version": "3.10.6"
  }
 },
 "nbformat": 4,
 "nbformat_minor": 5
}
