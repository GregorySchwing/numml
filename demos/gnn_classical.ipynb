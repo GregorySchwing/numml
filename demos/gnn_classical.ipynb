{
 "cells": [
  {
   "cell_type": "code",
   "execution_count": null,
   "id": "b256cb75-150c-4a97-96df-c55dff1ce144",
   "metadata": {},
   "outputs": [],
   "source": [
    "import torch_geometric.data"
   ]
  },
  {
   "cell_type": "code",
   "execution_count": null,
   "id": "9a7862a5-c3eb-4143-82fd-0c6656aa0ba4",
   "metadata": {},
   "outputs": [],
   "source": []
  }
 ],
 "metadata": {
  "kernelspec": {
   "display_name": "Python 3 (ipykernel)",
   "language": "python",
   "name": "python3"
  },
  "language_info": {
   "codemirror_mode": {
    "name": "ipython",
    "version": 3
   },
   "file_extension": ".py",
   "mimetype": "text/x-python",
   "name": "python",
   "nbconvert_exporter": "python",
   "pygments_lexer": "ipython3",
   "version": "3.10.6"
  }
 },
 "nbformat": 4,
 "nbformat_minor": 5
}
