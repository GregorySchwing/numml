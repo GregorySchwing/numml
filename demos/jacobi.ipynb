{
 "cells": [
  {
   "cell_type": "code",
   "execution_count": null,
   "id": "5350e50b-62a6-4665-9982-088d7a47f28b",
   "metadata": {},
   "outputs": [],
   "source": [
    "import torch\n",
    "import torch.linalg as tla\n",
    "import numpy as np\n",
    "import matplotlib.pyplot as plt\n",
    "import numml.sparse as sp"
   ]
  },
  {
   "cell_type": "code",
   "execution_count": null,
   "id": "47429021-b9bc-4b6d-87e6-bb52a82e01e4",
   "metadata": {},
   "outputs": [],
   "source": [
    "# Create our favorite poisson operator\n",
    "\n",
    "N = 16\n",
    "A = sp.eye(N)*2. - sp.eye(N, k=1) - sp.eye(N, k=-1)\n",
    "print(A.to_dense())"
   ]
  },
  {
   "cell_type": "code",
   "execution_count": null,
   "id": "b9380855-187f-486d-897b-9c3a8ffc29b6",
   "metadata": {},
   "outputs": [],
   "source": [
    "# A row-wise weighted jacobi, where instead of a scalar omega we have an n-length vector\n",
    "# weighting each entry\n",
    "\n",
    "def node_weighted_jacobi(A, x, b, omega):\n",
    "    Dinv = sp.diag(1./A.diagonal())\n",
    "    return omega * (Dinv @ b) + (sp.eye(A.shape[0]) - sp.diag(omega) @ (Dinv@A)) @ x"
   ]
  },
  {
   "cell_type": "code",
   "execution_count": null,
   "id": "e69adad1-97a8-43b9-985a-5cc143d4e849",
   "metadata": {},
   "outputs": [],
   "source": [
    "# We'll optimize over the best weight for each entry\n",
    "\n",
    "b = torch.zeros(N)\n",
    "omega = torch.ones(N, requires_grad=True)"
   ]
  },
  {
   "cell_type": "code",
   "execution_count": null,
   "id": "9c410ca3-ff6c-45df-bd6a-32ff53f1dd9b",
   "metadata": {},
   "outputs": [],
   "source": [
    "optimizer = torch.optim.Adam([omega], lr=1e-2)\n",
    "batch = 20\n",
    "lh = []\n",
    "oh = []\n",
    "jac_iter = 1\n",
    "\n",
    "for i in range(100):\n",
    "    optimizer.zero_grad()\n",
    "    \n",
    "    loss = 0.\n",
    "    \n",
    "    for j in range(batch):\n",
    "        x = torch.rand(N)\n",
    "        x /= tla.norm(x)\n",
    "        for k in range(jac_iter):\n",
    "            x = node_weighted_jacobi(A, torch.rand(N), b, omega)\n",
    "        loss += torch.sum((b - A @ x)**2.) / batch\n",
    "    \n",
    "    loss.backward()\n",
    "    \n",
    "    optimizer.step()\n",
    "    \n",
    "    lh.append(loss.item())\n",
    "    oh.append(omega.detach().numpy().copy())\n",
    "    if i % 10 == 0:\n",
    "        print(i, 'loss:', round(loss.item(), 3), 'omega:', torch.round(omega.detach(), decimals=2))"
   ]
  },
  {
   "cell_type": "code",
   "execution_count": null,
   "id": "732a2600-ae83-468c-a9d0-f970919d53f5",
   "metadata": {},
   "outputs": [],
   "source": [
    "Lh = np.array(lh)\n",
    "Oh = np.array(oh)\n",
    "\n",
    "plt.figure(figsize=(6, 5))\n",
    "\n",
    "plt.figure()\n",
    "plt.plot(Lh, 'k')\n",
    "plt.xlabel('Iteration')\n",
    "plt.ylabel('Loss')\n",
    "plt.grid()\n",
    "\n",
    "ax2 = plt.gca().twinx()\n",
    "ax2.plot(Oh)\n",
    "ax2.set_ylabel('Jacobi Weight')"
   ]
  },
  {
   "cell_type": "code",
   "execution_count": null,
   "id": "a1a529a8-cd93-44c4-812d-95f9b5935adc",
   "metadata": {},
   "outputs": [],
   "source": [
    "plt.figure(figsize=(6, 3))\n",
    "plt.title('Entry-wise jacobi weights')\n",
    "plt.plot(omega.detach(), 'o-')\n",
    "plt.ylim(0.3, 1)\n",
    "plt.xlabel('Node')\n",
    "plt.ylabel('Jacobi Weight')\n",
    "plt.grid()"
   ]
  },
  {
   "cell_type": "code",
   "execution_count": null,
   "id": "00e435da-5c2e-4c09-a7ff-b3f8c56e02e4",
   "metadata": {},
   "outputs": [],
   "source": []
  }
 ],
 "metadata": {
  "kernelspec": {
   "display_name": "Python 3 (ipykernel)",
   "language": "python",
   "name": "python3"
  },
  "language_info": {
   "codemirror_mode": {
    "name": "ipython",
    "version": 3
   },
   "file_extension": ".py",
   "mimetype": "text/x-python",
   "name": "python",
   "nbconvert_exporter": "python",
   "pygments_lexer": "ipython3",
   "version": "3.10.8"
  }
 },
 "nbformat": 4,
 "nbformat_minor": 5
}
