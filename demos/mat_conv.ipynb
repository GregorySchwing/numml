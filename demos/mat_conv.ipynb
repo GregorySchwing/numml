{
 "cells": [
  {
   "cell_type": "code",
   "execution_count": null,
   "id": "291deeef-de8e-4c00-af00-a415e7d278b0",
   "metadata": {},
   "outputs": [],
   "source": [
    "import torch\n",
    "import torch.nn as tNN\n",
    "import torch.linalg as tla\n",
    "import numml.sparse as sp\n",
    "import numml.nn as nNN\n",
    "import numml.krylov as kry\n",
    "import matplotlib.pyplot as plt"
   ]
  },
  {
   "cell_type": "code",
   "execution_count": null,
   "id": "61aebb38-6cce-41af-b341-31354bcde5e9",
   "metadata": {},
   "outputs": [],
   "source": [
    "N = 16\n",
    "A = sp.eye(N) * 2 - sp.eye(N,k=-1) - sp.eye(N,k=1)"
   ]
  },
  {
   "cell_type": "code",
   "execution_count": null,
   "id": "10228a13-eee3-4813-b7a3-abcc056489e3",
   "metadata": {},
   "outputs": [],
   "source": [
    "# Use our GCN implementation to create a network that maps right-hand-side\n",
    "# for a matrix to a guess to a solution of Ax=b\n",
    "\n",
    "class Network(tNN.Module):\n",
    "    def __init__(self, H):\n",
    "        super().__init__()\n",
    "        \n",
    "        self.conv1 = nNN.GCNConv(1, H, normalize=False)\n",
    "        self.conv2 = nNN.GCNConv(H, H, normalize=False)\n",
    "        self.conv3 = nNN.GCNConv(H, H, normalize=False)\n",
    "        self.conv4 = nNN.GCNConv(H, 1, normalize=False)\n",
    "        self.upscale = tNN.Linear(1, H)\n",
    "        self.downscale = tNN.Linear(H, 1)\n",
    "    \n",
    "    def forward(self, A, X):\n",
    "        X = torch.tanh(self.conv1(A, X)) + self.upscale(torch.unsqueeze(X, 1))\n",
    "        X = torch.tanh(self.conv2(A, X)) + X\n",
    "        X = torch.tanh(self.conv3(A, X)) + X\n",
    "        X = torch.tanh(self.conv4(A, X)) + self.downscale(X)\n",
    "        X = torch.squeeze(X)\n",
    "        return X"
   ]
  },
  {
   "cell_type": "code",
   "execution_count": null,
   "id": "5a21c8a1-ce97-4e7d-a0e9-211294d117ec",
   "metadata": {},
   "outputs": [],
   "source": [
    "# Optimize over the entries of the network, not totally working yet...\n",
    "\n",
    "network = Network(5)\n",
    "optimizer = torch.optim.Adam(network.parameters(), lr=0.01)\n",
    "\n",
    "N_e = 1_000\n",
    "N_b = 100\n",
    "\n",
    "for i in range(N_e):\n",
    "    optimizer.zero_grad()\n",
    "    l = 0.\n",
    "    for j in range(N_b):\n",
    "        b = torch.randn(N)\n",
    "        x_g = network(A, b)\n",
    "        r = b - (A @ x_g)\n",
    "        rr = (r@r)/(b@b)\n",
    "        l += rr\n",
    "    l.backward()\n",
    "    optimizer.step()\n",
    "    print(i, l.item()/N_b)"
   ]
  },
  {
   "cell_type": "code",
   "execution_count": null,
   "id": "b36d0fe3-3234-4fda-9019-8b786cc46e14",
   "metadata": {},
   "outputs": [],
   "source": [
    "b = torch.zeros(N)\n",
    "b[N//2] = 1.\n",
    "\n",
    "plt.plot(b)\n",
    "plt.plot(network(A, b).detach().cpu())"
   ]
  },
  {
   "cell_type": "code",
   "execution_count": null,
   "id": "4abd6b0d-6211-4a8f-9908-1e851cbebebc",
   "metadata": {},
   "outputs": [],
   "source": []
  }
 ],
 "metadata": {
  "kernelspec": {
   "display_name": "Python 3 (ipykernel)",
   "language": "python",
   "name": "python3"
  },
  "language_info": {
   "codemirror_mode": {
    "name": "ipython",
    "version": 3
   },
   "file_extension": ".py",
   "mimetype": "text/x-python",
   "name": "python",
   "nbconvert_exporter": "python",
   "pygments_lexer": "ipython3",
   "version": "3.10.6"
  }
 },
 "nbformat": 4,
 "nbformat_minor": 5
}
