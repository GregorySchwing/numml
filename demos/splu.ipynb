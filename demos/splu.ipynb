{
 "cells": [
  {
   "cell_type": "code",
   "execution_count": null,
   "id": "5350e50b-62a6-4665-9982-088d7a47f28b",
   "metadata": {},
   "outputs": [],
   "source": [
    "import torch\n",
    "import torch.linalg as tla\n",
    "import torch.autograd\n",
    "import numpy as np\n",
    "import matplotlib.pyplot as plt\n",
    "import numml.sparse as sp\n",
    "import numml.utils as utils\n",
    "import scipy.linalg as sla"
   ]
  },
  {
   "cell_type": "code",
   "execution_count": null,
   "id": "47429021-b9bc-4b6d-87e6-bb52a82e01e4",
   "metadata": {},
   "outputs": [],
   "source": [
    "# Create our favorite poisson operator\n",
    "\n",
    "N = 7\n",
    "A = sp.eye(N)*2. - sp.eye(N, k=1) - sp.eye(N, k=-1)\n",
    "A.requires_grad = True\n",
    "print(A.to_dense())"
   ]
  },
  {
   "cell_type": "code",
   "execution_count": null,
   "id": "8b9edcf6-8fad-4f82-b8dd-e433132a51db",
   "metadata": {},
   "outputs": [],
   "source": [
    "LU = sp.splu(A)\n",
    "LU.to_dense()"
   ]
  },
  {
   "cell_type": "code",
   "execution_count": null,
   "id": "37ba8bfc-2886-4009-b040-64b15dac8525",
   "metadata": {},
   "outputs": [],
   "source": [
    "L = LU.tril(k=-1) + sp.eye(N)\n",
    "U = LU.triu()\n",
    "\n",
    "print(torch.allclose((L@U).to_dense(), A.to_dense()))"
   ]
  },
  {
   "cell_type": "code",
   "execution_count": null,
   "id": "ba7b45ed-00f5-4e4d-aec0-0fe43bd90e47",
   "metadata": {},
   "outputs": [],
   "source": [
    "b = torch.zeros(N)\n",
    "b[N//2] = 1.\n",
    "b.requires_grad = True\n",
    "\n",
    "x = sp.spsolve(A, b)\n",
    "x"
   ]
  },
  {
   "cell_type": "code",
   "execution_count": null,
   "id": "dc1e80fb-e4b7-430c-a414-c833e6cf8593",
   "metadata": {
    "tags": []
   },
   "outputs": [],
   "source": [
    "plt.plot(b.detach().numpy())\n",
    "plt.plot(x.detach().numpy())"
   ]
  },
  {
   "cell_type": "code",
   "execution_count": null,
   "id": "6582a3a3-8dcb-40b0-b4bb-f0b9e79e0981",
   "metadata": {},
   "outputs": [],
   "source": [
    "def solve(A):\n",
    "    b = torch.ones(N)\n",
    "    return sp.spsolve(A, b).sum() ** 2.\n",
    "\n",
    "print(torch.round(utils.sp_fd(solve, A.detach()).to_dense()))\n",
    "print(torch.round(sp.SparseCSRTensor((torch.autograd.grad(solve(A), A.data)[0], A.indices, A.indptr), A.shape).to_dense()))"
   ]
  },
  {
   "cell_type": "code",
   "execution_count": null,
   "id": "c88b9add-84f5-4cc1-b2eb-b811776d3548",
   "metadata": {},
   "outputs": [],
   "source": []
  }
 ],
 "metadata": {
  "kernelspec": {
   "display_name": "Python 3 (ipykernel)",
   "language": "python",
   "name": "python3"
  },
  "language_info": {
   "codemirror_mode": {
    "name": "ipython",
    "version": 3
   },
   "file_extension": ".py",
   "mimetype": "text/x-python",
   "name": "python",
   "nbconvert_exporter": "python",
   "pygments_lexer": "ipython3",
   "version": "3.10.7"
  }
 },
 "nbformat": 4,
 "nbformat_minor": 5
}
