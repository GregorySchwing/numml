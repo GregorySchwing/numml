{
 "cells": [
  {
   "cell_type": "code",
   "execution_count": 1,
   "id": "5350e50b-62a6-4665-9982-088d7a47f28b",
   "metadata": {},
   "outputs": [],
   "source": [
    "import torch\n",
    "import torch.autograd\n",
    "import numpy as np\n",
    "import matplotlib.pyplot as plt\n",
    "import numml.sparse as sp\n",
    "import numml.krylov as kry"
   ]
  },
  {
   "cell_type": "code",
   "execution_count": 2,
   "id": "47429021-b9bc-4b6d-87e6-bb52a82e01e4",
   "metadata": {},
   "outputs": [
    {
     "name": "stdout",
     "output_type": "stream",
     "text": [
      "tensor([[ 2., -1.,  0.,  0.,  0.,  0.,  0.,  0.],\n",
      "        [-1.,  2., -1.,  0.,  0.,  0.,  0.,  0.],\n",
      "        [ 0., -1.,  2., -1.,  0.,  0.,  0.,  0.],\n",
      "        [ 0.,  0., -1.,  2., -1.,  0.,  0.,  0.],\n",
      "        [ 0.,  0.,  0., -1.,  2., -1.,  0.,  0.],\n",
      "        [ 0.,  0.,  0.,  0., -1.,  2., -1.,  0.],\n",
      "        [ 0.,  0.,  0.,  0.,  0., -1.,  2., -1.],\n",
      "        [ 0.,  0.,  0.,  0.,  0.,  0., -1.,  2.]])\n"
     ]
    }
   ],
   "source": [
    "# Create our favorite poisson operator\n",
    "\n",
    "N = 8\n",
    "A = sp.eye(N)*2. - sp.eye(N, k=1) - sp.eye(N, k=-1)\n",
    "print(A.to_dense())"
   ]
  },
  {
   "cell_type": "code",
   "execution_count": 3,
   "id": "4fd0f424-1bda-4ab9-a6b7-1cdbd17b4573",
   "metadata": {},
   "outputs": [
    {
     "data": {
      "text/plain": [
       "tensor([[ 2., -1.,  1.,  0.,  0.,  0.,  0.,  0.],\n",
       "        [-1.,  2., -1.,  1.,  0.,  0.,  0.,  0.],\n",
       "        [ 1., -1.,  2., -1.,  1.,  0.,  0.,  0.],\n",
       "        [ 0.,  1., -1.,  2., -1.,  1.,  0.,  0.],\n",
       "        [ 0.,  0.,  1., -1.,  2., -1.,  1.,  0.],\n",
       "        [ 0.,  0.,  0.,  1., -1.,  2., -1.,  1.],\n",
       "        [ 0.,  0.,  0.,  0.,  1., -1.,  2., -1.],\n",
       "        [ 0.,  0.,  0.,  0.,  0.,  1., -1.,  2.]], grad_fn=<CopySlices>)"
      ]
     },
     "execution_count": 3,
     "metadata": {},
     "output_type": "execute_result"
    }
   ],
   "source": [
    "# Create our starting initial guess to A^{-1}, which we'll be lazy and initialize to A itself\n",
    "\n",
    "Ainv = A.copy() + sp.eye(N, k=2) + sp.eye(N, k=-2)\n",
    "Ainv_start = Ainv.copy()\n",
    "Ainv.requires_grad = True\n",
    "Ainv.to_dense()"
   ]
  },
  {
   "cell_type": "code",
   "execution_count": 4,
   "id": "6040f5b7-1e98-482f-88ab-389cf713e7f5",
   "metadata": {
    "tags": []
   },
   "outputs": [
    {
     "data": {
      "text/plain": [
       "tensor([[ 5., -4.,  3., -1.,  0.,  0.,  0.,  0.],\n",
       "        [-5.,  6., -5.,  3., -1.,  0.,  0.,  0.],\n",
       "        [ 3., -5.,  6., -5.,  3., -1.,  0.,  0.],\n",
       "        [-1.,  3., -5.,  6., -5.,  3., -1.,  0.],\n",
       "        [ 0., -1.,  3., -5.,  6., -5.,  3., -1.],\n",
       "        [ 0.,  0., -1.,  3., -5.,  6., -5.,  3.],\n",
       "        [ 0.,  0.,  0., -1.,  3., -5.,  6., -5.],\n",
       "        [ 0.,  0.,  0.,  0., -1.,  3., -4.,  5.]], grad_fn=<CopySlices>)"
      ]
     },
     "execution_count": 4,
     "metadata": {},
     "output_type": "execute_result"
    }
   ],
   "source": [
    "(A@Ainv).to_dense()"
   ]
  },
  {
   "cell_type": "code",
   "execution_count": 5,
   "id": "a366553b-427e-4746-b80c-c169d503f218",
   "metadata": {},
   "outputs": [
    {
     "data": {
      "text/plain": [
       "True"
      ]
     },
     "execution_count": 5,
     "metadata": {},
     "output_type": "execute_result"
    }
   ],
   "source": [
    "# Confirm our matmat product even works at all\n",
    "\n",
    "torch.allclose((A@Ainv).to_dense(), A.to_dense() @ Ainv.to_dense())"
   ]
  },
  {
   "cell_type": "code",
   "execution_count": 6,
   "id": "44e6a5fc-506a-47aa-80fb-3e6437c4de30",
   "metadata": {
    "tags": []
   },
   "outputs": [
    {
     "name": "stdout",
     "output_type": "stream",
     "text": [
      "0 1264.0\n",
      "10 65.00367736816406\n",
      "20 65.44514465332031\n",
      "30 22.18129539489746\n",
      "40 6.93930196762085\n",
      "50 5.281045913696289\n",
      "60 2.6295430660247803\n",
      "70 2.1336565017700195\n",
      "80 1.9847989082336426\n",
      "90 1.7738406658172607\n",
      "100 1.7615363597869873\n",
      "110 1.7036938667297363\n",
      "120 1.6730196475982666\n",
      "130 1.6465144157409668\n",
      "140 1.6215102672576904\n",
      "150 1.6002333164215088\n",
      "160 1.5814106464385986\n",
      "170 1.5648002624511719\n",
      "180 1.5503299236297607\n",
      "190 1.537787914276123\n",
      "200 1.5269824266433716\n",
      "210 1.517737865447998\n",
      "220 1.5098819732666016\n",
      "230 1.503248691558838\n",
      "240 1.497684121131897\n",
      "250 1.4930455684661865\n",
      "260 1.489202618598938\n",
      "270 1.4860389232635498\n",
      "280 1.483449935913086\n",
      "290 1.4813441038131714\n",
      "299 1.4797954559326172\n"
     ]
    }
   ],
   "source": [
    "# Optimize || A @ Ainv - I ||_F^2 + || Ainv @ A - I ||_F^2\n",
    "\n",
    "optimizer = torch.optim.Adam([Ainv.data], lr=0.1)\n",
    "lh = []\n",
    "epochs = 300\n",
    "\n",
    "for i in range(epochs):\n",
    "    optimizer.zero_grad()\n",
    "    \n",
    "    loss_AAinv = (((A @ Ainv) - sp.eye(N)) ** 2.).sum()\n",
    "    loss_AinvA = (((Ainv @ A) - sp.eye(N)) ** 2.).sum()\n",
    "    loss = loss_AAinv + loss_AinvA\n",
    "    loss.backward()\n",
    "    \n",
    "    optimizer.step()\n",
    "    \n",
    "    lh.append(loss.item())\n",
    "    if i % 10 == 0 or i == epochs - 1:\n",
    "        print(i, loss.item())"
   ]
  },
  {
   "cell_type": "code",
   "execution_count": 7,
   "id": "8b697609-7aa2-46ee-a9ac-80848ba5432f",
   "metadata": {},
   "outputs": [
    {
     "data": {
      "text/plain": [
       "Text(0.5, 1.0, 'Loss history')"
      ]
     },
     "execution_count": 7,
     "metadata": {},
     "output_type": "execute_result"
    },
    {
     "data": {
      "image/png": "[encoded data removed]",
      "text/plain": [
       "<Figure size 640x480 with 1 Axes>"
      ]
     },
     "metadata": {},
     "output_type": "display_data"
    }
   ],
   "source": [
    "plt.semilogy(lh)\n",
    "plt.grid()\n",
    "plt.title('Loss history')"
   ]
  },
  {
   "cell_type": "code",
   "execution_count": 8,
   "id": "b2216a5a-f244-4763-a917-bcea15ae84fa",
   "metadata": {},
   "outputs": [
    {
     "data": {
      "text/plain": [
       "tensor([[ 0.9801, -0.0548, -0.1069, -0.1507,  0.0000,  0.0000,  0.0000,  0.0000],\n",
       "        [-0.0380,  0.9068, -0.1308, -0.1289, -0.1400,  0.0000,  0.0000,  0.0000],\n",
       "        [-0.0670, -0.1256,  0.8551, -0.1414, -0.1415, -0.1400,  0.0000,  0.0000],\n",
       "        [-0.1758, -0.1571, -0.1513,  0.8509, -0.1484, -0.1504, -0.1507,  0.0000],\n",
       "        [ 0.0000, -0.1507, -0.1504, -0.1484,  0.8509, -0.1513, -0.1571, -0.1758],\n",
       "        [ 0.0000,  0.0000, -0.1400, -0.1415, -0.1414,  0.8551, -0.1256, -0.0670],\n",
       "        [ 0.0000,  0.0000,  0.0000, -0.1400, -0.1289, -0.1308,  0.9068, -0.0380],\n",
       "        [ 0.0000,  0.0000,  0.0000,  0.0000, -0.1507, -0.1069, -0.0548,  0.9801]],\n",
       "       grad_fn=<CopySlices>)"
      ]
     },
     "execution_count": 8,
     "metadata": {},
     "output_type": "execute_result"
    }
   ],
   "source": [
    "(A@Ainv).to_dense()"
   ]
  },
  {
   "cell_type": "code",
   "execution_count": 9,
   "id": "fb434465-f19a-4e87-9197-d1091beaa69e",
   "metadata": {},
   "outputs": [
    {
     "data": {
      "text/plain": [
       "tensor([[0.6993, 0.4186, 0.1758, 0.0000, 0.0000, 0.0000, 0.0000, 0.0000],\n",
       "        [0.4186, 0.8919, 0.4585, 0.1507, 0.0000, 0.0000, 0.0000, 0.0000],\n",
       "        [0.1758, 0.4585, 0.8719, 0.4303, 0.1400, 0.0000, 0.0000, 0.0000],\n",
       "        [0.0000, 0.1507, 0.4303, 0.8513, 0.4214, 0.1400, 0.0000, 0.0000],\n",
       "        [0.0000, 0.0000, 0.1400, 0.4214, 0.8513, 0.4303, 0.1507, 0.0000],\n",
       "        [0.0000, 0.0000, 0.0000, 0.1400, 0.4303, 0.8719, 0.4585, 0.1758],\n",
       "        [0.0000, 0.0000, 0.0000, 0.0000, 0.1507, 0.4585, 0.8919, 0.4186],\n",
       "        [0.0000, 0.0000, 0.0000, 0.0000, 0.0000, 0.1758, 0.4186, 0.6993]],\n",
       "       grad_fn=<CopySlices>)"
      ]
     },
     "execution_count": 9,
     "metadata": {},
     "output_type": "execute_result"
    }
   ],
   "source": [
    "Ainv.to_dense()"
   ]
  },
  {
   "cell_type": "code",
   "execution_count": null,
   "id": "b9380855-187f-486d-897b-9c3a8ffc29b6",
   "metadata": {},
   "outputs": [],
   "source": []
  }
 ],
 "metadata": {
  "kernelspec": {
   "display_name": "Python 3 (ipykernel)",
   "language": "python",
   "name": "python3"
  },
  "language_info": {
   "codemirror_mode": {
    "name": "ipython",
    "version": 3
   },
   "file_extension": ".py",
   "mimetype": "text/x-python",
   "name": "python",
   "nbconvert_exporter": "python",
   "pygments_lexer": "ipython3",
   "version": "3.10.6"
  }
 },
 "nbformat": 4,
 "nbformat_minor": 5
}
