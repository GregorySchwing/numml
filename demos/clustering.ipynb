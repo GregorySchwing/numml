{
 "cells": [
  {
   "cell_type": "code",
   "execution_count": null,
   "id": "03723877-a63e-4d84-a953-83519edcbc3f",
   "metadata": {},
   "outputs": [],
   "source": [
    "import torch\n",
    "import torch.nn as tNN\n",
    "import torch.linalg as tla\n",
    "import numml.sparse as sp\n",
    "import numml.nn as nNN\n",
    "import numml.krylov as kry\n",
    "import matplotlib.pyplot as plt\n",
    "import sklearn.neighbors"
   ]
  },
  {
   "cell_type": "code",
   "execution_count": null,
   "id": "99582170-40a2-40c4-8852-75903f1d2053",
   "metadata": {},
   "outputs": [],
   "source": [
    "mu = torch.Tensor([\n",
    "    [0.1, 0.1],\n",
    "    [0.5, 0.9],\n",
    "    [0.9, 0.2]\n",
    "])\n",
    "sigma = torch.Tensor([0.18, 0.18, 0.18])\n",
    "N_c = 50\n",
    "\n",
    "X = torch.cat([torch.randn(N_c, 2) * sigma[i] + mu[i] for i in range(len(mu))])\n",
    "N = X.shape[0]"
   ]
  },
  {
   "cell_type": "code",
   "execution_count": null,
   "id": "f6558220-2dfb-4d8f-b640-216cc253c8cc",
   "metadata": {},
   "outputs": [],
   "source": [
    "plt.plot(X[:,0], X[:,1], 'o')"
   ]
  },
  {
   "cell_type": "code",
   "execution_count": null,
   "id": "67a4becb-1edf-42f2-bf38-6fc3c19050cc",
   "metadata": {},
   "outputs": [],
   "source": [
    "G = sp.SparseCSRTensor(sklearn.neighbors.kneighbors_graph(X, 3))\n",
    "plt.spy(G.to_scipy_csr(), markersize=2.)"
   ]
  },
  {
   "cell_type": "code",
   "execution_count": null,
   "id": "8af08295-0188-4fea-9eed-bc3994ec566e",
   "metadata": {},
   "outputs": [],
   "source": [
    "C = torch.abs(torch.randn((N, 3))) * 100\n",
    "C.requires_grad = True"
   ]
  },
  {
   "cell_type": "code",
   "execution_count": null,
   "id": "8eac6b51-10bf-4c36-8fc4-89d605bdaced",
   "metadata": {},
   "outputs": [],
   "source": [
    "def bin_argmax(C):\n",
    "    Z = torch.zeros_like(C)\n",
    "    v, i = torch.topk(C, k=1, dim=1)\n",
    "    Z[torch.arange(C.shape[0]), torch.squeeze(i)] = torch.squeeze(v)\n",
    "    return tNN.functional.softmax(Z, dim=1)"
   ]
  },
  {
   "cell_type": "code",
   "execution_count": null,
   "id": "dafa8b45-aac3-457c-bfa2-0b8a001a1266",
   "metadata": {},
   "outputs": [],
   "source": [
    "optimizer = torch.optim.Adam([C], lr=0.1)\n",
    "\n",
    "for i in range(100):\n",
    "    optimizer.zero_grad()\n",
    "    loss = (G@bin_argmax(C)).sum(dim=0).max()\n",
    "    loss.backward()\n",
    "    print(i, loss.item())"
   ]
  },
  {
   "cell_type": "code",
   "execution_count": null,
   "id": "f88f5522-2a52-4e5b-bb90-7ec62e0f1f59",
   "metadata": {},
   "outputs": [],
   "source": []
  }
 ],
 "metadata": {
  "kernelspec": {
   "display_name": "Python 3 (ipykernel)",
   "language": "python",
   "name": "python3"
  },
  "language_info": {
   "codemirror_mode": {
    "name": "ipython",
    "version": 3
   },
   "file_extension": ".py",
   "mimetype": "text/x-python",
   "name": "python",
   "nbconvert_exporter": "python",
   "pygments_lexer": "ipython3",
   "version": "3.10.8"
  }
 },
 "nbformat": 4,
 "nbformat_minor": 5
}
