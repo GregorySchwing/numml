{
 "cells": [
  {
   "cell_type": "code",
   "execution_count": null,
   "id": "2ce08ec1-6b7b-4b2c-80f4-6d0a92bd61c8",
   "metadata": {},
   "outputs": [],
   "source": [
    "import torch\n",
    "import torch.nn as tNN\n",
    "import torch.linalg as tla\n",
    "import numml.sparse as sp\n",
    "import numml.nn as nNN\n",
    "import matplotlib.pyplot as plt"
   ]
  },
  {
   "cell_type": "code",
   "execution_count": null,
   "id": "03c26cf7-ff0c-47f8-a079-161207f43d38",
   "metadata": {},
   "outputs": [],
   "source": [
    "N = 10\n",
    "A = sp.eye(N)*2 - sp.eye(N,k=-1) - sp.eye(N,k=1)"
   ]
  },
  {
   "cell_type": "code",
   "execution_count": null,
   "id": "2bdd85bb-6fe0-4542-bd93-f86395830c24",
   "metadata": {},
   "outputs": [],
   "source": [
    "def f(x, b):\n",
    "    return (x@(A@x))/2 - x@b\n",
    "\n",
    "def gradf(x, b):\n",
    "    return A@x - b\n",
    "\n",
    "def Hf(x, b):\n",
    "    return A"
   ]
  },
  {
   "cell_type": "code",
   "execution_count": null,
   "id": "c61045e7-5477-4787-a344-46f44ebc3e5f",
   "metadata": {},
   "outputs": [],
   "source": [
    "def heavyball(x, xp, b, alpha, beta):\n",
    "    return x - alpha * gradf(x, b) + beta*(x - xp)"
   ]
  },
  {
   "cell_type": "code",
   "execution_count": null,
   "id": "7800efe0-b68f-4b29-8208-b5322eb03995",
   "metadata": {
    "tags": []
   },
   "outputs": [],
   "source": [
    "class Network(tNN.Module):\n",
    "    def __init__(self, H):\n",
    "        super().__init__()\n",
    "        \n",
    "        self.conv1 = nNN.TAGConv(2, H, normalize=True)\n",
    "        self.conv2 = nNN.TAGConv(H, 2, normalize=True)\n",
    "    \n",
    "    def forward(self, A, x, xp):\n",
    "        X = torch.column_stack((x, xp))\n",
    "        X = torch.relu(self.conv1(A, X))\n",
    "        X = torch.relu(self.conv2(A, X))\n",
    "        alpha, beta = torch.tanh(torch.mean(X, dim=0))\n",
    "        return alpha, beta"
   ]
  },
  {
   "cell_type": "code",
   "execution_count": null,
   "id": "97ea5d62-8ea7-4259-a9d9-b95a485d9ec2",
   "metadata": {},
   "outputs": [],
   "source": [
    "#network = Network(10)\n",
    "#optimizer = torch.optim.Adam(network.parameters(), lr=0.01)\n",
    "alpha = torch.tensor(1., requires_grad=True)\n",
    "beta = torch.tensor(1., requires_grad=True)\n",
    "optimizer = torch.optim.Adam([alpha, beta], lr=0.01)\n",
    "\n",
    "N_e = 1_000\n",
    "N_b = 100\n",
    "\n",
    "lh = []\n",
    "ah = []\n",
    "bh = []\n",
    "\n",
    "for i in range(N_e):\n",
    "    optimizer.zero_grad()\n",
    "    \n",
    "    loss = 0.\n",
    "    for j in range(N_b):\n",
    "        b = torch.randn(N)\n",
    "        xp = torch.zeros(N)\n",
    "        x = torch.zeros(N)\n",
    "\n",
    "        #alpha, beta = network(A, x, xp)\n",
    "        xn = heavyball(x, xp, b, alpha, beta)\n",
    "        xp = x\n",
    "        x = xn\n",
    "\n",
    "        #alpha, beta = network(A, x, xp)\n",
    "        xn = heavyball(x, xp, b, alpha, beta)\n",
    "        xp = x\n",
    "        x = xn\n",
    "\n",
    "        loss += tla.norm(b-A@x) / tla.norm(b)\n",
    "    loss /= N_b\n",
    "    loss.backward()\n",
    "    lh.append(loss.item())\n",
    "    ah.append(alpha.item())\n",
    "    bh.append(beta.item())\n",
    "    \n",
    "    optimizer.step()\n",
    "    if i % 10 == 0:\n",
    "        print(i, loss.item(), alpha.item(), beta.item())"
   ]
  },
  {
   "cell_type": "code",
   "execution_count": null,
   "id": "662f7b91-8e8d-434c-9819-e5203082f817",
   "metadata": {},
   "outputs": [],
   "source": [
    "plt.semilogy(lh)\n",
    "plt.figure()\n",
    "plt.plot(ah)\n",
    "plt.plot(bh)"
   ]
  },
  {
   "cell_type": "code",
   "execution_count": null,
   "id": "99793e59-bdeb-4c64-b897-92b49653c341",
   "metadata": {},
   "outputs": [],
   "source": []
  }
 ],
 "metadata": {
  "kernelspec": {
   "display_name": "Python 3 (ipykernel)",
   "language": "python",
   "name": "python3"
  },
  "language_info": {
   "codemirror_mode": {
    "name": "ipython",
    "version": 3
   },
   "file_extension": ".py",
   "mimetype": "text/x-python",
   "name": "python",
   "nbconvert_exporter": "python",
   "pygments_lexer": "ipython3",
   "version": "3.10.8"
  }
 },
 "nbformat": 4,
 "nbformat_minor": 5
}
