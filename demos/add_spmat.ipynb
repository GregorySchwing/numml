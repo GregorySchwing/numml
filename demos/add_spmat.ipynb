{
 "cells": [
  {
   "cell_type": "code",
   "execution_count": null,
   "id": "5350e50b-62a6-4665-9982-088d7a47f28b",
   "metadata": {},
   "outputs": [],
   "source": [
    "import torch\n",
    "import torch.autograd\n",
    "import numpy as np\n",
    "import matplotlib.pyplot as plt\n",
    "import numml.sparse as sp"
   ]
  },
  {
   "cell_type": "code",
   "execution_count": null,
   "id": "47429021-b9bc-4b6d-87e6-bb52a82e01e4",
   "metadata": {},
   "outputs": [],
   "source": [
    "# Create our favorite poisson operator\n",
    "\n",
    "A = sp.eye(5)*2. - sp.eye(5, k=1) - sp.eye(5, k=-1)\n",
    "print(A.to_dense())"
   ]
  },
  {
   "cell_type": "code",
   "execution_count": null,
   "id": "a202acfb-472a-4058-aa7f-faa35a14a2d9",
   "metadata": {},
   "outputs": [],
   "source": [
    "# Now generate random lower and upper triangular matrices\n",
    "\n",
    "L = sp.eye(5) + sp.eye(5,k=-1)\n",
    "L.data = torch.rand(L.nnz)\n",
    "L.requires_grad = True\n",
    "print(L.to_dense())\n",
    "\n",
    "U = sp.eye(5) + sp.eye(5,k=1)\n",
    "U.data = torch.rand(U.nnz)\n",
    "U.requires_grad = True\n",
    "print(U.to_dense())"
   ]
  },
  {
   "cell_type": "code",
   "execution_count": null,
   "id": "be3cda60-b5b9-4181-ae63-3b2fa2451df7",
   "metadata": {},
   "outputs": [],
   "source": [
    "# Optimize the entries of L and U such that L + U = A\n",
    "\n",
    "optimizer = torch.optim.Adam([L.data, U.data], lr=0.1)\n",
    "lh = []\n",
    "\n",
    "for i in range(1_000):\n",
    "    optimizer.zero_grad()\n",
    "    \n",
    "    loss = ((L + U) - A).abs().sum() ** 2.\n",
    "    loss.backward()\n",
    "    \n",
    "    optimizer.step()\n",
    "    \n",
    "    lh.append(loss.item())\n",
    "    if i % 100 == 0:\n",
    "        print(i, loss.item())"
   ]
  },
  {
   "cell_type": "code",
   "execution_count": null,
   "id": "debae924-edc8-4a88-9c49-3e83732900f1",
   "metadata": {},
   "outputs": [],
   "source": [
    "L.to_dense()"
   ]
  },
  {
   "cell_type": "code",
   "execution_count": null,
   "id": "fd4985c6-aa5a-47ec-b05e-99b971e54138",
   "metadata": {},
   "outputs": [],
   "source": [
    "U.to_dense()"
   ]
  },
  {
   "cell_type": "code",
   "execution_count": null,
   "id": "00124abb-2cde-4611-a0d7-47c4c1c4c380",
   "metadata": {},
   "outputs": [],
   "source": [
    "(L+U).to_dense()"
   ]
  }
 ],
 "metadata": {
  "kernelspec": {
   "display_name": "Python 3 (ipykernel)",
   "language": "python",
   "name": "python3"
  },
  "language_info": {
   "codemirror_mode": {
    "name": "ipython",
    "version": 3
   },
   "file_extension": ".py",
   "mimetype": "text/x-python",
   "name": "python",
   "nbconvert_exporter": "python",
   "pygments_lexer": "ipython3",
   "version": "3.10.7"
  }
 },
 "nbformat": 4,
 "nbformat_minor": 5
}
