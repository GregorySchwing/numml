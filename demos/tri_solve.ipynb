{
 "cells": [
  {
   "cell_type": "code",
   "execution_count": 1,
   "id": "79863e36-3ca6-4800-8e52-e0503740fba5",
   "metadata": {},
   "outputs": [],
   "source": [
    "import torch\n",
    "import torch.autograd\n",
    "import numpy as np\n",
    "import matplotlib.pyplot as plt\n",
    "from numml.torch.sparse import SparseCSRTensor"
   ]
  },
  {
   "cell_type": "code",
   "execution_count": 2,
   "id": "47315d13-9f58-4419-9d3e-f0c45534cc24",
   "metadata": {},
   "outputs": [
    {
     "data": {
      "text/plain": [
       "array([[ 2.,  0.,  0.,  0.,  0.],\n",
       "       [-1.,  2.,  0.,  0.,  0.],\n",
       "       [ 0., -1.,  2.,  0.,  0.],\n",
       "       [ 0.,  0., -1.,  2.,  0.],\n",
       "       [ 0.,  0.,  0., -1.,  2.]])"
      ]
     },
     "execution_count": 2,
     "metadata": {},
     "output_type": "execute_result"
    }
   ],
   "source": [
    "# Our example triangular system\n",
    "A = np.eye(5)*2 - np.eye(5,k=-1)\n",
    "A"
   ]
  },
  {
   "cell_type": "code",
   "execution_count": 3,
   "id": "30e60732-43dc-4a69-9f01-40a0d9b8a1a9",
   "metadata": {},
   "outputs": [],
   "source": [
    "# switch this to False to test upper triangular\n",
    "lower = True"
   ]
  },
  {
   "cell_type": "code",
   "execution_count": 4,
   "id": "d9b5a363-3cfd-4804-849e-44d06862ae3d",
   "metadata": {},
   "outputs": [
    {
     "data": {
      "text/plain": [
       "tensor([[ 2.,  0.,  0.,  0.,  0.],\n",
       "        [-1.,  2.,  0.,  0.,  0.],\n",
       "        [ 0., -1.,  2.,  0.,  0.],\n",
       "        [ 0.,  0., -1.,  2.,  0.],\n",
       "        [ 0.,  0.,  0., -1.,  2.]])"
      ]
     },
     "execution_count": 4,
     "metadata": {},
     "output_type": "execute_result"
    }
   ],
   "source": [
    "# Convert to torch tensor type\n",
    "A_T = torch.tensor(A).float()\n",
    "if not lower:\n",
    "    A_T = A_T.T\n",
    "A_T"
   ]
  },
  {
   "cell_type": "code",
   "execution_count": 5,
   "id": "dc4946ff-c181-4335-8339-a60a91cfbaef",
   "metadata": {},
   "outputs": [],
   "source": [
    "# Create CSR representation of A_T, and enable gradient on its data\n",
    "A_csr = SparseCSRTensor(A_T)\n",
    "A_csr.data.requires_grad = True"
   ]
  },
  {
   "cell_type": "code",
   "execution_count": 6,
   "id": "c738615f-0c89-4f91-b8f4-eca8e39eb25f",
   "metadata": {},
   "outputs": [
    {
     "data": {
      "text/plain": [
       "tensor([1., 2., 3., 4., 5.])"
      ]
     },
     "execution_count": 6,
     "metadata": {},
     "output_type": "execute_result"
    }
   ],
   "source": [
    "# Generate right-hand-side\n",
    "b = torch.arange(5).float() + 1.\n",
    "b"
   ]
  },
  {
   "cell_type": "code",
   "execution_count": 7,
   "id": "64a3f54b-867f-42dd-9dd9-4ceb207925d1",
   "metadata": {},
   "outputs": [
    {
     "data": {
      "text/plain": [
       "tensor([0.5000, 1.2500, 2.1250, 3.0625, 4.0312],\n",
       "       grad_fn=<ScaleVecPrimitiveBackward>)"
      ]
     },
     "execution_count": 7,
     "metadata": {},
     "output_type": "execute_result"
    }
   ],
   "source": [
    "# Solve Ax=b for x\n",
    "x = A_csr.solve_triangular(upper=(not lower), unit=False, b=b)\n",
    "x"
   ]
  },
  {
   "cell_type": "code",
   "execution_count": 8,
   "id": "b0df4c47-71da-4bd6-93c1-546d9907e226",
   "metadata": {},
   "outputs": [
    {
     "data": {
      "text/plain": [
       "tensor(True)"
      ]
     },
     "execution_count": 8,
     "metadata": {},
     "output_type": "execute_result"
    }
   ],
   "source": [
    "# Assert that we have zero residual (A times x is equal to b)\n",
    "torch.all((A_csr@x).detach() == b)"
   ]
  },
  {
   "cell_type": "code",
   "execution_count": 9,
   "id": "e929656a-6067-464d-8345-ede085c90d9d",
   "metadata": {},
   "outputs": [
    {
     "name": "stdout",
     "output_type": "stream",
     "text": [
      "0 3.3955078125\n",
      "100 0.032617662101984024\n",
      "200 2.1106672647874802e-05\n",
      "300 2.89418267129804e-10\n",
      "400 1.3216094885137863e-12\n",
      "500 1.3216094885137863e-12\n",
      "600 8.100187187665142e-13\n",
      "700 8.100187187665142e-13\n",
      "800 8.100187187665142e-13\n",
      "900 5.115907697472721e-13\n"
     ]
    }
   ],
   "source": [
    "# Interesting example:\n",
    "# optimize the entries of A such that A^{-1} b = b\n",
    "\n",
    "optimizer = torch.optim.Adam([A_csr.data], lr=0.01)\n",
    "lh = []\n",
    "\n",
    "for i in range(1_000):\n",
    "    optimizer.zero_grad()\n",
    "    \n",
    "    x = A_csr.solve_triangular(upper=(not lower), unit=False, b=b)\n",
    "    loss = torch.sum((x - b) ** 2)\n",
    "    loss.backward()\n",
    "    \n",
    "    optimizer.step()\n",
    "    \n",
    "    lh.append(loss.item())\n",
    "    if i % 100 == 0:\n",
    "        print(i, loss.item())"
   ]
  },
  {
   "cell_type": "code",
   "execution_count": 10,
   "id": "f9e6a006-9af2-429a-9ea1-861fcab3d2f4",
   "metadata": {},
   "outputs": [
    {
     "data": {
      "text/plain": [
       "Text(0.5, 1.0, 'Loss history')"
      ]
     },
     "execution_count": 10,
     "metadata": {},
     "output_type": "execute_result"
    },
    {
     "data": {
      "image/png": "[encoded data removed]",
      "text/plain": [
       "<Figure size 640x480 with 1 Axes>"
      ]
     },
     "metadata": {},
     "output_type": "display_data"
    }
   ],
   "source": [
    "plt.semilogy(lh)\n",
    "plt.grid()\n",
    "plt.title('Loss history')"
   ]
  },
  {
   "cell_type": "code",
   "execution_count": 11,
   "id": "bbe2c58e-c08c-405e-a2ae-06ba7ce600e1",
   "metadata": {},
   "outputs": [
    {
     "data": {
      "text/plain": [
       "tensor([[ 1.0000,  0.0000,  0.0000,  0.0000,  0.0000],\n",
       "        [-1.3166,  1.6583,  0.0000,  0.0000,  0.0000],\n",
       "        [ 0.0000, -1.1963,  1.7976,  0.0000,  0.0000],\n",
       "        [ 0.0000,  0.0000, -1.1423,  1.8567,  0.0000],\n",
       "        [ 0.0000,  0.0000,  0.0000, -1.1120,  1.8896]], grad_fn=<CopySlices>)"
      ]
     },
     "execution_count": 11,
     "metadata": {},
     "output_type": "execute_result"
    }
   ],
   "source": [
    "A_csr.to_dense()"
   ]
  },
  {
   "cell_type": "code",
   "execution_count": 12,
   "id": "b01addcf-8b77-4c08-9b06-e09d7a9a78e6",
   "metadata": {},
   "outputs": [
    {
     "data": {
      "text/plain": [
       "tensor([1.0000, 2.0000, 3.0000, 4.0000, 5.0000],\n",
       "       grad_fn=<ScaleVecPrimitiveBackward>)"
      ]
     },
     "execution_count": 12,
     "metadata": {},
     "output_type": "execute_result"
    }
   ],
   "source": [
    "A_csr.solve_triangular(upper=(not lower), unit=False, b=b)"
   ]
  },
  {
   "cell_type": "code",
   "execution_count": null,
   "id": "66632ef0-382a-4e7a-af35-67dd84f2649e",
   "metadata": {},
   "outputs": [],
   "source": []
  }
 ],
 "metadata": {
  "kernelspec": {
   "display_name": "Python 3 (ipykernel)",
   "language": "python",
   "name": "python3"
  },
  "language_info": {
   "codemirror_mode": {
    "name": "ipython",
    "version": 3
   },
   "file_extension": ".py",
   "mimetype": "text/x-python",
   "name": "python",
   "nbconvert_exporter": "python",
   "pygments_lexer": "ipython3",
   "version": "3.10.7"
  }
 },
 "nbformat": 4,
 "nbformat_minor": 5
}
